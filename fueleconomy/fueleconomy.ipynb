{
 "cells": [
  {
   "cell_type": "code",
   "execution_count": 4,
   "id": "stuck-ready",
   "metadata": {},
   "outputs": [],
   "source": [
    "import matplotlib as mlt\n",
    "import numpy as np\n",
    "import pandas as pd\n",
    "%matplotlib inline\n"
   ]
  },
  {
   "cell_type": "code",
   "execution_count": 5,
   "id": "enormous-flood",
   "metadata": {},
   "outputs": [
    {
     "name": "stdout",
     "output_type": "stream",
     "text": [
      "   Model Year             Mfr Name                  Division         Carline  \\\n",
      "0        2021         aston martin  Aston Martin Lagonda Ltd  Vantage Manual   \n",
      "1        2021         aston martin  Aston Martin Lagonda Ltd      Vantage V8   \n",
      "2        2021  Volkswagen Group of                      Audi              R8   \n",
      "3        2021  Volkswagen Group of                      Audi          R8 2WD   \n",
      "4        2021  Volkswagen Group of                      Audi       R8 Spyder   \n",
      "\n",
      "  Verify Mfr Cd  Index (Model Type Index)  Eng Displ  # Cyl Transmission  \\\n",
      "0           ASX                         5        4.0      8   Manual(M7)   \n",
      "1           ASX                         4        4.0      8     Auto(S8)   \n",
      "2           VGA                         5        5.2     10  Auto(AM-S7)   \n",
      "3           VGA                         7        5.2     10  Auto(AM-S7)   \n",
      "4           VGA                         6        5.2     10  Auto(AM-S7)   \n",
      "\n",
      "   City FE (Guide) - Conventional Fuel  ...  \\\n",
      "0                                   14  ...   \n",
      "1                                   18  ...   \n",
      "2                                   13  ...   \n",
      "3                                   14  ...   \n",
      "4                                   13  ...   \n",
      "\n",
      "   CO2-PHEV Composite Rounded Adjusted Combined CO2  \\\n",
      "0                                               NaN   \n",
      "1                                               NaN   \n",
      "2                                               NaN   \n",
      "3                                               NaN   \n",
      "4                                               NaN   \n",
      "\n",
      "   240V Charge Time at 240 volts (hours)  \\\n",
      "0                                    NaN   \n",
      "1                                    NaN   \n",
      "2                                    NaN   \n",
      "3                                    NaN   \n",
      "4                                    NaN   \n",
      "\n",
      "   120V Charge time at 120 Volts (hours)  \\\n",
      "0                                    NaN   \n",
      "1                                    NaN   \n",
      "2                                    NaN   \n",
      "3                                    NaN   \n",
      "4                                    NaN   \n",
      "\n",
      "   PHEV Total Driving Range (rounded to nearest 10 miles)DISTANCE  \\\n",
      "0                                                NaN                \n",
      "1                                                NaN                \n",
      "2                                                NaN                \n",
      "3                                                NaN                \n",
      "4                                                NaN                \n",
      "\n",
      "   City PHEV Composite MPGe  Hwy PHEV Composite MPGe  \\\n",
      "0                       NaN                      NaN   \n",
      "1                       NaN                      NaN   \n",
      "2                       NaN                      NaN   \n",
      "3                       NaN                      NaN   \n",
      "4                       NaN                      NaN   \n",
      "\n",
      "   Comb PHEV Composite MPGe  Unnamed: 162 Unnamed: 163 Unnamed: 164  \n",
      "0                       NaN           NaN          NaN          NaN  \n",
      "1                       NaN           NaN          NaN          NaN  \n",
      "2                       NaN           NaN          NaN          NaN  \n",
      "3                       NaN           NaN          NaN          NaN  \n",
      "4                       NaN           NaN          NaN          NaN  \n",
      "\n",
      "[5 rows x 165 columns]\n"
     ]
    }
   ],
   "source": [
    "from pandas import ExcelWriter\n",
    "from pandas import ExcelFile\n",
    "df = pd.read_excel('DOE_012021.xlsx')\n",
    "print(df.head())\n",
    "# note to self: don't forget the parentheses after head.\n"
   ]
  },
  {
   "cell_type": "markdown",
   "id": "suspected-jacksonville",
   "metadata": {},
   "source": [
    "Assessment: There are many missing values, especially for distance and MPG. Otherwise it looks quite clean.\n",
    "MPG = Miles Per Gallon"
   ]
  },
  {
   "cell_type": "code",
   "execution_count": 9,
   "id": "julian-oxide",
   "metadata": {},
   "outputs": [
    {
     "name": "stdout",
     "output_type": "stream",
     "text": [
      "1041 1041\n",
      "1041 1041\n"
     ]
    }
   ],
   "source": [
    "# check how many missing values there are to see if meaningful analysis is possible.\n",
    "print(df.shape[0], df['City PHEV Composite MPGe'].isnull().sum())\n",
    "# There is no data in this column.\n",
    "print(df.shape[0], df['Comb PHEV Composite MPGe'].isnull().sum())\n",
    "\n",
    "# It looks like there is no information in these columns, but there is in the pdf guide."
   ]
  },
  {
   "cell_type": "code",
   "execution_count": null,
   "id": "fitting-writing",
   "metadata": {},
   "outputs": [],
   "source": []
  }
 ],
 "metadata": {
  "kernelspec": {
   "display_name": "Python 3",
   "language": "python",
   "name": "python3"
  },
  "language_info": {
   "codemirror_mode": {
    "name": "ipython",
    "version": 3
   },
   "file_extension": ".py",
   "mimetype": "text/x-python",
   "name": "python",
   "nbconvert_exporter": "python",
   "pygments_lexer": "ipython3",
   "version": "3.8.5"
  }
 },
 "nbformat": 4,
 "nbformat_minor": 5
}
